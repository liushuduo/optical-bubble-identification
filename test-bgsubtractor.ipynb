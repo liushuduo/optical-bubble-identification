{
 "cells": [
  {
   "cell_type": "code",
   "execution_count": 2,
   "source": [
    "import cv2\r\n",
    "import numpy as np"
   ],
   "outputs": [],
   "metadata": {}
  },
  {
   "cell_type": "code",
   "execution_count": 3,
   "source": [
    "back_sub = cv2.createBackgroundSubtractorMOG2()\r\n",
    "# back_sub = cv2.createBackgroundSubtractorKNN()\r\n",
    "\r\n",
    "vc = cv2.VideoCapture('segment01.mp4')\r\n",
    "\r\n",
    "if not vc.isOpened:\r\n",
    "    print('Unable to open video file!')\r\n",
    "    exit(0)"
   ],
   "outputs": [],
   "metadata": {}
  },
  {
   "cell_type": "code",
   "execution_count": 3,
   "source": [
    "while True:\r\n",
    "    ret, frame = vc.read()\r\n",
    "    if frame is None:\r\n",
    "        break\r\n",
    "    \r\n",
    "    # Sharpen frame\r\n",
    "    kernel = np.array([[-1,-1,-1], [-1,9,-1], [-1,-1,-1]])  # sharpen kernal\r\n",
    "    sharpened_frame = cv2.filter2D(frame, -1, kernel)\r\n",
    "\r\n",
    "    # Absolute Sobel detector\r\n",
    "    dx = cv2.Sobel(sharpened_frame, cv2.CV_64F, 1, 0)\r\n",
    "    dy = cv2.Sobel(sharpened_frame, cv2.CV_64F, 0, 1)\r\n",
    "    abs_dx = cv2.convertScaleAbs(dx)\r\n",
    "    abs_dy = cv2.convertScaleAbs(dy)\r\n",
    "    frame_edge = cv2.addWeighted(abs_dx, 0.5, abs_dy, 0.5, 0)\r\n",
    "\r\n",
    "    # Apply background subtractor\r\n",
    "    fg_mask = back_sub.apply(frame_edge)\r\n",
    "\r\n",
    "    cv2.rectangle(frame, (10, 2), (100, 20), (255,255,255), -1)\r\n",
    "    cv2.putText(frame, str(vc.get(cv2.CAP_PROP_POS_FRAMES)), (15,15), \r\n",
    "            cv2.FONT_HERSHEY_SIMPLEX, 0.5, (0,0,0))\r\n",
    "    \r\n",
    "    cv2.imshow('Frame', frame)\r\n",
    "    cv2.imshow('FG mask', fg_mask)\r\n",
    "\r\n",
    "    keyboard = cv2.waitKey(30)\r\n",
    "    if keyboard =='q' or keyboard == 27:\r\n",
    "        break"
   ],
   "outputs": [],
   "metadata": {}
  }
 ],
 "metadata": {
  "orig_nbformat": 4,
  "language_info": {
   "name": "python",
   "version": "3.9.6",
   "mimetype": "text/x-python",
   "codemirror_mode": {
    "name": "ipython",
    "version": 3
   },
   "pygments_lexer": "ipython3",
   "nbconvert_exporter": "python",
   "file_extension": ".py"
  },
  "kernelspec": {
   "name": "python3",
   "display_name": "Python 3.9.6 32-bit ('optical-bubble-identification': conda)"
  },
  "interpreter": {
   "hash": "79137359ba8a632e3d8ae68fc4bee4aa6a4fd60fa8320ffed1fdd1572a6e97db"
  }
 },
 "nbformat": 4,
 "nbformat_minor": 2
}