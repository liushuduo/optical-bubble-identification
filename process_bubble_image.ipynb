{
 "cells": [
  {
   "cell_type": "code",
   "execution_count": 68,
   "metadata": {},
   "outputs": [],
   "source": [
    "import numpy as np\n",
    "import matplotlib.pyplot as plt\n",
    "import cv2\n",
    "\n",
    "\n",
    "def enhance_brightness(image, alpha=1, beta=0):\n",
    "    img_hsv = cv2.cvtColor(image, cv2.COLOR_BGR2HSV)\n",
    "    h, s, v = cv2.split(img_hsv)\n",
    "    v_result = np.clip(cv2.add(np.uint8(alpha*v), beta), 0, 255)\n",
    "    img_result = np.uint8( cv2.merge((h,s,v_result)) )\n",
    "    img_result = cv2.cvtColor(img_result,cv2.COLOR_HSV2BGR)\n",
    "    return img_result\n",
    "\n",
    "\n",
    "def unsharp_mask(image, kernel_size=(5, 5), sigma=1.0, amount=1.0, threshold=0):\n",
    "    \"\"\"Return a sharpened version of the image, using an unsharp mask.\"\"\"\n",
    "    blurred = cv2.GaussianBlur(image, kernel_size, sigma)\n",
    "    sharpened = float(amount + 1) * image - float(amount) * blurred\n",
    "    sharpened = np.maximum(sharpened, np.zeros(sharpened.shape))\n",
    "    sharpened = np.minimum(sharpened, 255 * np.ones(sharpened.shape))\n",
    "    sharpened = sharpened.round().astype(np.uint8)\n",
    "    if threshold > 0:\n",
    "        low_contrast_mask = np.absolute(image - blurred) < threshold\n",
    "        np.copyto(sharpened, image, where=low_contrast_mask)\n",
    "    return sharpened\n",
    "\n",
    "def enhance_image(frame, alpha=1, beta=0):\n",
    "    \n",
    "    # First enhance brightness then sharpen\n",
    "    # brighter_frame = enhance_brightness(frame, alpha, beta)\n",
    "    # sharpened_frame = unsharp_mask(brighter_frame)\n",
    "    # return sharpened_frame\n",
    "    \n",
    "    # First sharpen then enhance brightness\n",
    "    sharpened_frame = unsharp_mask(frame)\n",
    "    brighter_frame = enhance_brightness(sharpened_frame, alpha, beta)\n",
    "    return brighter_frame"
   ]
  },
  {
   "cell_type": "code",
   "execution_count": 74,
   "metadata": {},
   "outputs": [
    {
     "data": {
      "text/plain": [
       "True"
      ]
     },
     "execution_count": 74,
     "metadata": {},
     "output_type": "execute_result"
    }
   ],
   "source": [
    "filename = './bubble_frames/frame-1.png'\n",
    "bubble_frame_bgr = cv2.imread(filename)\n",
    "cv2.imwrite('./bubble_frames/raw.png', bubble_frame_bgr)\n",
    "\n",
    "# Sharpen frame\n",
    "sharpened_frame = unsharp_mask(bubble_frame_bgr)\n",
    "cv2.imwrite('./bubble_frames/sharpened-frame.png', sharpened_frame)\n",
    "\n",
    "# Enhance frame brightness\n",
    "brighter_frame = enhance_brightness(bubble_frame_bgr, alpha=1.5, beta=30)\n",
    "cv2.imwrite('./bubble_frames/brighter-frame.png', brighter_frame)\n",
    "\n",
    "# Enhance frame\n",
    "enhanced_frame = enhance_image(brighter_frame, alpha=1, beta=30)\n",
    "cv2.imwrite('./bubble_frames/enhanced-frame.png', enhanced_frame)"
   ]
  }
 ],
 "metadata": {
  "interpreter": {
   "hash": "6209ad8be3ef3ec20d991c09b91c583109c0b77ca2b1892fb14742892e82c38a"
  },
  "kernelspec": {
   "display_name": "Python 3.9.6 64-bit ('optical-bubble-identification': conda)",
   "name": "python3"
  },
  "language_info": {
   "codemirror_mode": {
    "name": "ipython",
    "version": 3
   },
   "file_extension": ".py",
   "mimetype": "text/x-python",
   "name": "python",
   "nbconvert_exporter": "python",
   "pygments_lexer": "ipython3",
   "version": "3.9.7"
  },
  "orig_nbformat": 4
 },
 "nbformat": 4,
 "nbformat_minor": 2
}
