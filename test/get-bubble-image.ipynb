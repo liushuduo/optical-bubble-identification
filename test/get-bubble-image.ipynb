{
 "cells": [
  {
   "cell_type": "code",
   "execution_count": 7,
   "source": [
    "import cv2\r\n",
    "import numpy\r\n",
    "vc = cv2.VideoCapture('output.mp4')\r\n",
    "FPS = vc.get(cv2.CAP_PROP_FPS)\r\n",
    "START_TIME = 25\r\n",
    "vc.set(cv2.CAP_PROP_POS_FRAMES, int(START_TIME*FPS))"
   ],
   "outputs": [
    {
     "output_type": "execute_result",
     "data": {
      "text/plain": [
       "True"
      ]
     },
     "metadata": {},
     "execution_count": 7
    }
   ],
   "metadata": {}
  },
  {
   "cell_type": "code",
   "execution_count": 8,
   "source": [
    "TOTAL_FRAMES = 240\r\n",
    "\r\n",
    "for count in range(TOTAL_FRAMES):\r\n",
    "    ret, frame = vc.read()\r\n",
    "    cv2.imwrite(('./bubble-frames/%03d.png' % (count)), frame)\r\n",
    "\r\n",
    "vc.release()"
   ],
   "outputs": [],
   "metadata": {}
  },
  {
   "cell_type": "code",
   "execution_count": 2,
   "source": [
    "while ret:\r\n",
    "    ret, frame = vc.read()\r\n",
    "    cv2.imshow('Frame', frame)\r\n",
    "    keyboard = cv2.waitKey(0)\r\n",
    "    if keyboard =='q' or keyboard == 27:\r\n",
    "        break"
   ],
   "outputs": [],
   "metadata": {}
  }
 ],
 "metadata": {
  "orig_nbformat": 4,
  "language_info": {
   "name": "python",
   "version": "3.9.6",
   "mimetype": "text/x-python",
   "codemirror_mode": {
    "name": "ipython",
    "version": 3
   },
   "pygments_lexer": "ipython3",
   "nbconvert_exporter": "python",
   "file_extension": ".py"
  },
  "kernelspec": {
   "name": "python3",
   "display_name": "Python 3.9.6 32-bit ('optical-bubble-identification': conda)"
  },
  "interpreter": {
   "hash": "79137359ba8a632e3d8ae68fc4bee4aa6a4fd60fa8320ffed1fdd1572a6e97db"
  }
 },
 "nbformat": 4,
 "nbformat_minor": 2
}