{
 "cells": [
  {
   "cell_type": "code",
   "execution_count": 16,
   "source": [
    "import matplotlib.pyplot as plt\r\n",
    "import cv2\r\n",
    "import numpy as np\r\n",
    "import pandas as pd"
   ],
   "outputs": [],
   "metadata": {}
  },
  {
   "cell_type": "code",
   "execution_count": 13,
   "source": [
    "FILENAME = 'segment01-bubble-movement'\r\n",
    "\r\n",
    "# Read file \r\n",
    "raw_bubble_table = pd.read_pickle(FILENAME)\r\n",
    "bubble_table = raw_bubble_table.copy()"
   ],
   "outputs": [],
   "metadata": {}
  },
  {
   "cell_type": "markdown",
   "source": [
    "## Get number of tracked frames for each bubble."
   ],
   "metadata": {}
  },
  {
   "cell_type": "code",
   "execution_count": 15,
   "source": [
    "def return_length(x):\r\n",
    "    return x.shape[0]\r\n",
    "    \r\n",
    "bubble_table['tracked_frames'] = bubble_table[\"centroid\"].map(return_length)"
   ],
   "outputs": [],
   "metadata": {}
  },
  {
   "cell_type": "code",
   "execution_count": 20,
   "source": [
    "plt.hist(bubble_table.tracked_frames, bins=60)"
   ],
   "outputs": [
    {
     "output_type": "execute_result",
     "data": {
      "text/plain": [
       "(array([1.3837e+04, 4.0220e+03, 3.0970e+03, 5.1690e+03, 1.5680e+03,\n",
       "        1.4110e+03, 1.3620e+03, 2.4990e+03, 1.2300e+03, 1.0090e+03,\n",
       "        8.2000e+02, 1.3000e+03, 6.8200e+02, 7.5400e+02, 7.2100e+02,\n",
       "        1.6260e+03, 1.0780e+03, 1.2670e+03, 1.8680e+03, 4.8900e+02,\n",
       "        3.5500e+02, 2.4500e+02, 3.0700e+02, 8.9000e+01, 5.5000e+01,\n",
       "        3.7000e+01, 3.3000e+01, 2.3000e+01, 1.3000e+01, 1.3000e+01,\n",
       "        1.5000e+01, 6.0000e+00, 3.0000e+00, 9.0000e+00, 0.0000e+00,\n",
       "        0.0000e+00, 3.0000e+00, 2.0000e+00, 0.0000e+00, 0.0000e+00,\n",
       "        0.0000e+00, 4.0000e+00, 1.0000e+00, 0.0000e+00, 0.0000e+00,\n",
       "        0.0000e+00, 0.0000e+00, 0.0000e+00, 0.0000e+00, 0.0000e+00,\n",
       "        0.0000e+00, 0.0000e+00, 0.0000e+00, 0.0000e+00, 0.0000e+00,\n",
       "        0.0000e+00, 0.0000e+00, 0.0000e+00, 0.0000e+00, 1.0000e+00]),\n",
       " array([ 2.        ,  3.26666667,  4.53333333,  5.8       ,  7.06666667,\n",
       "         8.33333333,  9.6       , 10.86666667, 12.13333333, 13.4       ,\n",
       "        14.66666667, 15.93333333, 17.2       , 18.46666667, 19.73333333,\n",
       "        21.        , 22.26666667, 23.53333333, 24.8       , 26.06666667,\n",
       "        27.33333333, 28.6       , 29.86666667, 31.13333333, 32.4       ,\n",
       "        33.66666667, 34.93333333, 36.2       , 37.46666667, 38.73333333,\n",
       "        40.        , 41.26666667, 42.53333333, 43.8       , 45.06666667,\n",
       "        46.33333333, 47.6       , 48.86666667, 50.13333333, 51.4       ,\n",
       "        52.66666667, 53.93333333, 55.2       , 56.46666667, 57.73333333,\n",
       "        59.        , 60.26666667, 61.53333333, 62.8       , 64.06666667,\n",
       "        65.33333333, 66.6       , 67.86666667, 69.13333333, 70.4       ,\n",
       "        71.66666667, 72.93333333, 74.2       , 75.46666667, 76.73333333,\n",
       "        78.        ]),\n",
       " <BarContainer object of 60 artists>)"
      ]
     },
     "metadata": {},
     "execution_count": 20
    },
    {
     "output_type": "display_data",
     "data": {
      "image/png": "[encoded data removed]",
      "text/plain": [
       "<Figure size 432x288 with 1 Axes>"
      ]
     },
     "metadata": {
      "needs_background": "light"
     }
    }
   ],
   "metadata": {}
  }
 ],
 "metadata": {
  "orig_nbformat": 4,
  "language_info": {
   "name": "python",
   "version": "3.9.6",
   "mimetype": "text/x-python",
   "codemirror_mode": {
    "name": "ipython",
    "version": 3
   },
   "pygments_lexer": "ipython3",
   "nbconvert_exporter": "python",
   "file_extension": ".py"
  },
  "kernelspec": {
   "name": "python3",
   "display_name": "Python 3.9.6 32-bit ('optical-bubble-identification': conda)"
  },
  "interpreter": {
   "hash": "79137359ba8a632e3d8ae68fc4bee4aa6a4fd60fa8320ffed1fdd1572a6e97db"
  }
 },
 "nbformat": 4,
 "nbformat_minor": 2
}