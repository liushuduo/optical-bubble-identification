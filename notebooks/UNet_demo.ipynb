{
 "cells": [
  {
   "cell_type": "code",
   "execution_count": 1,
   "metadata": {},
   "outputs": [
    {
     "name": "stdout",
     "output_type": "stream",
     "text": [
      "c:\\Users\\shuduo\\Documents\\GitHub\\python__optical-bubble-identification\n"
     ]
    }
   ],
   "source": [
    "%cd .."
   ]
  },
  {
   "cell_type": "code",
   "execution_count": 6,
   "metadata": {},
   "outputs": [],
   "source": [
    "from bubbleDetection.dataset import DAVIS2017\n",
    "import torch \n",
    "import torchvision.transforms.functional as F\n",
    "import matplotlib.pyplot as plt"
   ]
  },
  {
   "cell_type": "code",
   "execution_count": 4,
   "metadata": {},
   "outputs": [
    {
     "name": "stdout",
     "output_type": "stream",
     "text": [
      "4209 4209\n",
      "Done initializing train Dataset\n"
     ]
    }
   ],
   "source": [
    "trainset = DAVIS2017(train=True)"
   ]
  },
  {
   "cell_type": "code",
   "execution_count": 5,
   "metadata": {},
   "outputs": [
    {
     "data": {
      "text/plain": [
       "(array([[[ 42.,  37.,  34.],\n",
       "         [ 58.,  53.,  50.],\n",
       "         [ 64.,  59.,  56.],\n",
       "         ...,\n",
       "         [126., 135., 116.],\n",
       "         [135., 140., 120.],\n",
       "         [153., 158., 138.]],\n",
       " \n",
       "        [[ 39.,  34.,  31.],\n",
       "         [ 53.,  48.,  45.],\n",
       "         [ 62.,  57.,  54.],\n",
       "         ...,\n",
       "         [132., 141., 122.],\n",
       "         [149., 153., 136.],\n",
       "         [128., 133., 113.]],\n",
       " \n",
       "        [[ 37.,  32.,  29.],\n",
       "         [ 46.,  41.,  38.],\n",
       "         [ 57.,  52.,  49.],\n",
       "         ...,\n",
       "         [139., 147., 132.],\n",
       "         [ 95.,  99.,  84.],\n",
       "         [ 74.,  78.,  61.]],\n",
       " \n",
       "        ...,\n",
       " \n",
       "        [[187., 174., 168.],\n",
       "         [199., 186., 180.],\n",
       "         [196., 185., 183.],\n",
       "         ...,\n",
       "         [ 68.,  71.,  60.],\n",
       "         [ 64.,  67.,  58.],\n",
       "         [ 59.,  62.,  51.]],\n",
       " \n",
       "        [[192., 177., 170.],\n",
       "         [211., 198., 192.],\n",
       "         [214., 203., 201.],\n",
       "         ...,\n",
       "         [ 65.,  69.,  55.],\n",
       "         [ 64.,  67.,  56.],\n",
       "         [ 62.,  66.,  52.]],\n",
       " \n",
       "        [[206., 191., 184.],\n",
       "         [207., 194., 188.],\n",
       "         [193., 182., 178.],\n",
       "         ...,\n",
       "         [ 65.,  69.,  55.],\n",
       "         [ 67.,  71.,  57.],\n",
       "         [ 67.,  71.,  57.]]], dtype=float32),\n",
       " array([[0., 0., 0., ..., 0., 0., 0.],\n",
       "        [0., 0., 0., ..., 0., 0., 0.],\n",
       "        [0., 0., 0., ..., 0., 0., 0.],\n",
       "        ...,\n",
       "        [0., 0., 0., ..., 0., 0., 0.],\n",
       "        [0., 0., 0., ..., 0., 0., 0.],\n",
       "        [0., 0., 0., ..., 0., 0., 0.]], dtype=float32))"
      ]
     },
     "execution_count": 5,
     "metadata": {},
     "output_type": "execute_result"
    }
   ],
   "source": [
    "dataset = DAVIS2017()\n",
    "\n",
    "dataloader = torch.utils.data.DataLoader(dataset, batch_size=1, shuffle=True, num_workers=1)\n",
    "assert getattr(dataloader, \"batch_size\") == 1, \"The plot script works only with batch_size=1\"\n",
    "\n",
    "for i, (img, gt) in enumerate(dataloader):\n",
    "    img = F.CenterCrop((IMAGE_HEIGHT, IMAGE_WIDTH))(img)\n",
    "    plt.figure()\n",
    "    plt.imshow(F.overlay_mask(F.inv_normalize(F.tens2image(img)), F.tens2image(gt)))\n",
    "\n",
    "    if i == 20:\n",
    "        break\n",
    "\n",
    "plt.show(block=True)"
   ]
  }
 ],
 "metadata": {
  "kernelspec": {
   "display_name": "pytorch",
   "language": "python",
   "name": "python3"
  },
  "language_info": {
   "codemirror_mode": {
    "name": "ipython",
    "version": 3
   },
   "file_extension": ".py",
   "mimetype": "text/x-python",
   "name": "python",
   "nbconvert_exporter": "python",
   "pygments_lexer": "ipython3",
   "version": "3.11.9"
  }
 },
 "nbformat": 4,
 "nbformat_minor": 2
}
