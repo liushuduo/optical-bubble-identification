{
 "cells": [
  {
   "cell_type": "code",
   "execution_count": 1,
   "metadata": {},
   "outputs": [
    {
     "name": "stdout",
     "output_type": "stream",
     "text": [
      "c:\\Users\\shuduo\\Documents\\GitHub\\python__optical-bubble-identification\n"
     ]
    }
   ],
   "source": [
    "%cd .."
   ]
  },
  {
   "cell_type": "code",
   "execution_count": 2,
   "metadata": {},
   "outputs": [],
   "source": [
    "from bubbleDetection.dataset import load_image\n",
    "import matplotlib.pyplot as plt\n",
    "from bubbleDetection.transform import *\n",
    "from bubbleDetection.detector import binimg_bubble_detector\n",
    "from PIL import Image"
   ]
  },
  {
   "cell_type": "code",
   "execution_count": 3,
   "metadata": {},
   "outputs": [],
   "source": [
    "padding = 2"
   ]
  },
  {
   "cell_type": "code",
   "execution_count": 5,
   "metadata": {},
   "outputs": [],
   "source": [
    "fig_idx = 0\n",
    "for idx in range(1, 246): \n",
    "    img_raw = load_image(idx, transform=transform_crop)\n",
    "    height, width, _ = img_raw.shape\n",
    "    img = load_image(idx, transform=transform_binimg)\n",
    "    cc = binimg_bubble_detector(img, area_threshold=100)\n",
    "    for c in cc: \n",
    "        bubimg = Image.fromarray(\\\n",
    "            img_raw[max(0, c[1]-padding): min(height - 1, c[1]+c[3] + padding), \\\n",
    "                    max(0, c[0]-padding): min(width - 1, c[0]+c[2] + padding)])\n",
    "        bubimg.save(f\"data/image/haima_bubble_dataset/{str(fig_idx).zfill(6)}.png\")\n",
    "        fig_idx += 1"
   ]
  }
 ],
 "metadata": {
  "kernelspec": {
   "display_name": "pytorch",
   "language": "python",
   "name": "python3"
  },
  "language_info": {
   "codemirror_mode": {
    "name": "ipython",
    "version": 3
   },
   "file_extension": ".py",
   "mimetype": "text/x-python",
   "name": "python",
   "nbconvert_exporter": "python",
   "pygments_lexer": "ipython3",
   "version": "3.11.9"
  }
 },
 "nbformat": 4,
 "nbformat_minor": 2
}
