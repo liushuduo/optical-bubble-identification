{
 "cells": [
  {
   "cell_type": "code",
   "execution_count": 1,
   "metadata": {},
   "outputs": [
    {
     "name": "stderr",
     "output_type": "stream",
     "text": [
      "c:\\Users\\shuduo\\miniconda3\\envs\\pytorch\\Lib\\site-packages\\tqdm\\auto.py:21: TqdmWarning: IProgress not found. Please update jupyter and ipywidgets. See https://ipywidgets.readthedocs.io/en/stable/user_install.html\n",
      "  from .autonotebook import tqdm as notebook_tqdm\n"
     ]
    }
   ],
   "source": [
    "# Numerical computation and visualization libraries \n",
    "import numpy as np\n",
    "import pandas as pd\n",
    "import matplotlib.pyplot as plt\n",
    "\n",
    "# Pytorch Libraries\n",
    "import torch\n",
    "import torchvision\n",
    "import torchvision.transforms as tr\n",
    "import torch.nn as nn\n",
    "from torch.utils.data import random_split\n",
    "import torch.optim as optim\n",
    "from torchvision import nets\n",
    "import copy\n",
    "\n",
    "import pandas as pd \n",
    "from bubbleDetection.dataset import BubbleDataset\n",
    "from torch.utils.data import DataLoader\n",
    "import torchvision.transforms as T\n",
    "import torch.nn.functional as F"
   ]
  },
  {
   "cell_type": "code",
   "execution_count": 2,
   "metadata": {},
   "outputs": [
    {
     "name": "stdout",
     "output_type": "stream",
     "text": [
      "Len of train dataset  1000\n",
      "Len of test dataset  300\n",
      "------------------------------\n",
      "<bubbleDetection.dataset.BubbleDataset object at 0x00000230E7D8EC90>\n",
      "<bubbleDetection.dataset.BubbleDataset object at 0x00000230E7D8EF50>\n",
      "------------------------------\n"
     ]
    }
   ],
   "source": [
    "trainset = BubbleDataset(train=True)\n",
    "testset = BubbleDataset(test=True)\n",
    "print('Len of train dataset ',len(trainset))\n",
    "print('Len of test dataset ',len(testset))\n",
    "print('-'*30)\n",
    "print(trainset)\n",
    "print(testset)\n",
    "print('-'*30)"
   ]
  },
  {
   "cell_type": "code",
   "execution_count": 18,
   "metadata": {},
   "outputs": [
    {
     "name": "stdout",
     "output_type": "stream",
     "text": [
      "cuda:0\n"
     ]
    }
   ],
   "source": [
    "batch_size= 32\n",
    "learning_rate=0.01\n",
    "trainloader = DataLoader(trainset,batch_size=batch_size, shuffle=True)\n",
    "testloader = DataLoader(testset,batch_size=batch_size, shuffle=True)\n",
    "\n",
    "device = torch.device(\"cuda:0\" if torch.cuda.is_available() else \"cpu\")\n",
    "print(device)\n",
    "classes = 4"
   ]
  },
  {
   "cell_type": "code",
   "execution_count": 19,
   "metadata": {},
   "outputs": [
    {
     "data": {
      "text/plain": [
       "BubLeNet(\n",
       "  (cnn_net): Sequential(\n",
       "    (0): Conv2d(3, 6, kernel_size=(18, 18), stride=(2, 2))\n",
       "    (1): Tanh()\n",
       "    (2): AvgPool2d(kernel_size=2, stride=2, padding=0)\n",
       "    (3): Conv2d(6, 16, kernel_size=(5, 5), stride=(1, 1))\n",
       "    (4): Tanh()\n",
       "    (5): AvgPool2d(kernel_size=2, stride=2, padding=0)\n",
       "  )\n",
       "  (fc_net): Sequential(\n",
       "    (0): Linear(in_features=256, out_features=120, bias=True)\n",
       "    (1): Tanh()\n",
       "    (2): Linear(in_features=120, out_features=84, bias=True)\n",
       "    (3): Tanh()\n",
       "    (4): Linear(in_features=84, out_features=4, bias=True)\n",
       "  )\n",
       ")"
      ]
     },
     "execution_count": 19,
     "metadata": {},
     "output_type": "execute_result"
    }
   ],
   "source": [
    "#Defining the convolutional neural network\n",
    "class BubLeNet(nn.Module):                         # Extending nn.Module class \n",
    "    def __init__(self, num_classes):                         # Constructor \n",
    "        super(BubLeNet,self).__init__()            # Calls the constructor of nn.Module\n",
    "        self.cnn_net = nn.Sequential(         # nn.Sequentila allows multiple layers to stack together\n",
    "            # nn.Conv2d(1,6,5),                   #(N,1,28,28) -> (N,6,24,24)\n",
    "            nn.Conv2d(3,6,18,stride=2),         #(N,3,64,64) -> (N,6,24,24)\n",
    "            nn.Tanh(),                      \n",
    "            nn.AvgPool2d(2,stride=2),           #(N,6,24,24) -> (N,6,12,12)\n",
    "            nn.Conv2d(6,16,5),                  #(N,6,12,12) -> (N,16,8,8)\n",
    "            nn.Tanh(),\n",
    "            nn.AvgPool2d(2,stride=2)            #(N,16,8,8) -> (N,16,4,4)\n",
    "            )\n",
    "        \n",
    "        self.fc_net = nn.Sequential(          # Fully connected layer \n",
    "            nn.Linear(256,120),\n",
    "            nn.Tanh(),\n",
    "            nn.Linear(120,84),\n",
    "            nn.Tanh(),\n",
    "            # nn.Linear(84,10)\n",
    "            nn.Linear(84, num_classes)\n",
    "            )\n",
    "        \n",
    "# It get a batch of data which have defined earlier \n",
    "        \n",
    "    def forward(self,x):     \n",
    "        #print(x.shape)\n",
    "        x = self.cnn_net(x)       \n",
    "        #print(x.shape)\n",
    "        x = x.view(x.size(0),-1)    # Flatning the inputs from tensors to vectors \n",
    "        #print(x.shape)\n",
    "        logits = self.fc_net(x)        # Passing the conv layer to fully connected layer\n",
    "        #print(x.shape)\n",
    "        return logits\n",
    "net = BubLeNet(num_classes=classes)\n",
    "net"
   ]
  },
  {
   "cell_type": "code",
   "execution_count": 20,
   "metadata": {},
   "outputs": [],
   "source": [
    "\n",
    "# Hyperparameters\n",
    "RANDOM_SEED = 1\n",
    "LEARNING_RATE = 0.001\n",
    "BATCH_SIZE = 32\n",
    "NUM_EPOCHS = 10\n",
    "\n",
    "net = net.to(device)           # Creating object for LeNet() model and passing it to GPU \n",
    "\n",
    "loss_fn = nn.CrossEntropyLoss()    # It takes the highest value which is the predictions and mark it as 1\n",
    "                                   # And mark rest of the values as zeros. \n",
    "opt = optim.Adam(net.parameters(), lr=LEARNING_RATE) # Using adam Optimization algorithm , we can also specify the hyperparameters ."
   ]
  },
  {
   "cell_type": "code",
   "execution_count": 15,
   "metadata": {},
   "outputs": [],
   "source": [
    "def evaluation(dataloader):\n",
    "    total , correct = 0,0\n",
    "    for data in dataloader:\n",
    "        inputs , labels = data\n",
    "        inputs , labels = inputs.to(device) , labels.to(device)\n",
    "        output = net(inputs)            \n",
    "        max_pred, pred = torch.max(output.data,dim=1)\n",
    "        total +=labels.size(0)\n",
    "        correct +=(pred == labels).sum().item()  \n",
    "    return 100 * correct / total"
   ]
  },
  {
   "cell_type": "code",
   "execution_count": 25,
   "metadata": {},
   "outputs": [
    {
     "name": "stdout",
     "output_type": "stream",
     "text": [
      "tensor([[ 0.0830, -0.1745, -0.0437,  0.0727],\n",
      "        [ 0.0828, -0.1826, -0.0368,  0.0892],\n",
      "        [ 0.0726, -0.1787, -0.0432,  0.0898],\n",
      "        [ 0.0792, -0.1705, -0.0444,  0.0820],\n",
      "        [ 0.0783, -0.1819, -0.0263,  0.0854],\n",
      "        [ 0.0795, -0.1739, -0.0445,  0.0688],\n",
      "        [ 0.0800, -0.1759, -0.0360,  0.0763],\n",
      "        [ 0.0749, -0.1698, -0.0388,  0.0780],\n",
      "        [ 0.0708, -0.1674, -0.0503,  0.0657],\n",
      "        [ 0.0821, -0.1800, -0.0263,  0.0782],\n",
      "        [ 0.0803, -0.1776, -0.0532,  0.0766],\n",
      "        [ 0.0782, -0.1700, -0.0442,  0.0766],\n",
      "        [ 0.0856, -0.1803, -0.0490,  0.0733],\n",
      "        [ 0.0830, -0.1657, -0.0466,  0.0747],\n",
      "        [ 0.0781, -0.1786, -0.0275,  0.0875],\n",
      "        [ 0.0732, -0.1699, -0.0507,  0.0768],\n",
      "        [ 0.0844, -0.1776, -0.0401,  0.0826],\n",
      "        [ 0.0793, -0.1773, -0.0271,  0.0800],\n",
      "        [ 0.0816, -0.1754, -0.0488,  0.0784],\n",
      "        [ 0.0793, -0.1712, -0.0545,  0.0796],\n",
      "        [ 0.0771, -0.1772, -0.0437,  0.0757],\n",
      "        [ 0.0799, -0.1738, -0.0400,  0.0793],\n",
      "        [ 0.0857, -0.1662, -0.0481,  0.0731],\n",
      "        [ 0.0817, -0.1732, -0.0554,  0.0734],\n",
      "        [ 0.0808, -0.1717, -0.0505,  0.0749],\n",
      "        [ 0.0808, -0.1870, -0.0343,  0.0910],\n",
      "        [ 0.0808, -0.1780, -0.0361,  0.0779],\n",
      "        [ 0.0855, -0.1769, -0.0473,  0.0809],\n",
      "        [ 0.0834, -0.1785, -0.0536,  0.0815],\n",
      "        [ 0.0774, -0.1806, -0.0414,  0.0715],\n",
      "        [ 0.0766, -0.1684, -0.0569,  0.0846],\n",
      "        [ 0.0833, -0.1848, -0.0322,  0.0908]], device='cuda:0',\n",
      "       grad_fn=<AddmmBackward0>)\n"
     ]
    }
   ],
   "source": [
    "data = next(iter(trainloader))\n",
    "inputs , labels = data\n",
    "inputs , labels = inputs.to(device) , labels.to(device)\n",
    "outputs = net(inputs)\n",
    "print(outputs)"
   ]
  },
  {
   "cell_type": "code",
   "execution_count": 26,
   "metadata": {},
   "outputs": [
    {
     "name": "stdout",
     "output_type": "stream",
     "text": [
      "CPU times: total: 0 ns\n",
      "Wall time: 0 ns\n",
      "Val accuracy: 86.00 , Train accuracy : 87.60\n",
      "Val accuracy: 86.00 , Train accuracy : 87.60\n",
      "Val accuracy: 86.00 , Train accuracy : 87.60\n",
      "Val accuracy: 86.00 , Train accuracy : 87.60\n",
      "Val accuracy: 86.00 , Train accuracy : 87.60\n",
      "Val accuracy: 86.00 , Train accuracy : 87.60\n",
      "Val accuracy: 86.00 , Train accuracy : 87.60\n",
      "Val accuracy: 86.00 , Train accuracy : 87.60\n",
      "Val accuracy: 86.00 , Train accuracy : 87.60\n",
      "Val accuracy: 86.00 , Train accuracy : 87.60\n",
      "Val accuracy: 86.00 , Train accuracy : 87.60\n",
      "Val accuracy: 86.00 , Train accuracy : 87.60\n",
      "Val accuracy: 86.00 , Train accuracy : 87.60\n",
      "Val accuracy: 86.00 , Train accuracy : 87.60\n",
      "Val accuracy: 86.00 , Train accuracy : 87.60\n",
      "Val accuracy: 86.00 , Train accuracy : 87.60\n",
      "Val accuracy: 86.00 , Train accuracy : 87.60\n",
      "Val accuracy: 86.00 , Train accuracy : 87.60\n",
      "Val accuracy: 86.00 , Train accuracy : 87.60\n",
      "Val accuracy: 86.00 , Train accuracy : 87.60\n",
      "Val accuracy: 86.00 , Train accuracy : 87.60\n",
      "Val accuracy: 86.00 , Train accuracy : 87.60\n",
      "Val accuracy: 86.00 , Train accuracy : 87.60\n",
      "Val accuracy: 89.67 , Train accuracy : 88.80\n",
      "Val accuracy: 91.33 , Train accuracy : 90.30\n",
      "Val accuracy: 89.00 , Train accuracy : 89.10\n",
      "Val accuracy: 91.33 , Train accuracy : 91.70\n",
      "Val accuracy: 91.67 , Train accuracy : 93.00\n",
      "Val accuracy: 91.33 , Train accuracy : 92.30\n",
      "Val accuracy: 90.67 , Train accuracy : 93.50\n",
      "Val accuracy: 91.67 , Train accuracy : 93.00\n",
      "Val accuracy: 91.00 , Train accuracy : 92.30\n",
      "Val accuracy: 90.00 , Train accuracy : 93.30\n",
      "Val accuracy: 91.67 , Train accuracy : 92.70\n",
      "Val accuracy: 91.00 , Train accuracy : 94.60\n",
      "Val accuracy: 91.00 , Train accuracy : 94.30\n",
      "Val accuracy: 91.67 , Train accuracy : 94.30\n",
      "Val accuracy: 93.67 , Train accuracy : 94.50\n",
      "Val accuracy: 92.33 , Train accuracy : 94.90\n",
      "Val accuracy: 93.33 , Train accuracy : 95.30\n",
      "Val accuracy: 91.67 , Train accuracy : 95.50\n",
      "Val accuracy: 92.67 , Train accuracy : 97.00\n",
      "Val accuracy: 91.33 , Train accuracy : 97.20\n",
      "Val accuracy: 91.33 , Train accuracy : 97.00\n",
      "Val accuracy: 92.33 , Train accuracy : 97.30\n",
      "Val accuracy: 91.33 , Train accuracy : 96.70\n",
      "Val accuracy: 92.67 , Train accuracy : 97.80\n",
      "Val accuracy: 91.33 , Train accuracy : 98.40\n",
      "Val accuracy: 91.67 , Train accuracy : 98.10\n",
      "Val accuracy: 91.33 , Train accuracy : 99.00\n",
      "Val accuracy: 92.67 , Train accuracy : 99.20\n",
      "Val accuracy: 92.00 , Train accuracy : 98.50\n",
      "Val accuracy: 92.00 , Train accuracy : 98.50\n",
      "Val accuracy: 92.00 , Train accuracy : 99.40\n",
      "Val accuracy: 92.67 , Train accuracy : 99.50\n",
      "Val accuracy: 91.67 , Train accuracy : 98.10\n",
      "Val accuracy: 92.33 , Train accuracy : 99.40\n",
      "Val accuracy: 91.67 , Train accuracy : 99.60\n",
      "Val accuracy: 91.67 , Train accuracy : 99.30\n",
      "Val accuracy: 92.00 , Train accuracy : 99.70\n",
      "Val accuracy: 91.00 , Train accuracy : 97.60\n",
      "Val accuracy: 92.33 , Train accuracy : 99.70\n",
      "Val accuracy: 92.67 , Train accuracy : 99.70\n",
      "Val accuracy: 92.33 , Train accuracy : 99.60\n",
      "Val accuracy: 92.00 , Train accuracy : 99.80\n",
      "Val accuracy: 91.33 , Train accuracy : 99.70\n",
      "Val accuracy: 91.67 , Train accuracy : 99.80\n",
      "Val accuracy: 92.67 , Train accuracy : 99.70\n",
      "Val accuracy: 92.00 , Train accuracy : 99.90\n",
      "Val accuracy: 92.00 , Train accuracy : 100.00\n",
      "Val accuracy: 91.67 , Train accuracy : 99.90\n",
      "Val accuracy: 92.00 , Train accuracy : 99.90\n",
      "Val accuracy: 92.33 , Train accuracy : 100.00\n",
      "Val accuracy: 92.67 , Train accuracy : 99.90\n",
      "Val accuracy: 92.00 , Train accuracy : 100.00\n",
      "Val accuracy: 92.00 , Train accuracy : 100.00\n",
      "Val accuracy: 92.00 , Train accuracy : 100.00\n",
      "Val accuracy: 92.67 , Train accuracy : 100.00\n",
      "Val accuracy: 92.33 , Train accuracy : 100.00\n",
      "Val accuracy: 92.33 , Train accuracy : 100.00\n",
      "Val accuracy: 92.33 , Train accuracy : 100.00\n",
      "Val accuracy: 92.00 , Train accuracy : 100.00\n",
      "Val accuracy: 92.33 , Train accuracy : 100.00\n",
      "Val accuracy: 92.33 , Train accuracy : 100.00\n",
      "Val accuracy: 92.33 , Train accuracy : 100.00\n",
      "Val accuracy: 92.33 , Train accuracy : 100.00\n",
      "Val accuracy: 92.33 , Train accuracy : 100.00\n",
      "Val accuracy: 92.33 , Train accuracy : 100.00\n",
      "Val accuracy: 92.33 , Train accuracy : 100.00\n",
      "Val accuracy: 92.33 , Train accuracy : 100.00\n",
      "Val accuracy: 92.33 , Train accuracy : 100.00\n",
      "Val accuracy: 92.33 , Train accuracy : 100.00\n",
      "Val accuracy: 92.33 , Train accuracy : 100.00\n",
      "Val accuracy: 92.33 , Train accuracy : 100.00\n",
      "Val accuracy: 92.33 , Train accuracy : 100.00\n",
      "Val accuracy: 92.33 , Train accuracy : 100.00\n",
      "Val accuracy: 92.33 , Train accuracy : 100.00\n",
      "Val accuracy: 92.33 , Train accuracy : 100.00\n",
      "Val accuracy: 92.33 , Train accuracy : 100.00\n",
      "Val accuracy: 92.33 , Train accuracy : 100.00\n"
     ]
    },
    {
     "data": {
      "image/png": "[encoded data removed]",
      "text/plain": [
       "<Figure size 640x480 with 1 Axes>"
      ]
     },
     "metadata": {},
     "output_type": "display_data"
    }
   ],
   "source": [
    "%time\n",
    "def fit(max_epochs = 100):\n",
    "    \n",
    "    loss_arr = []\n",
    "    loss_epoch_arr = []\n",
    "    \n",
    "    for epoch in range(max_epochs):\n",
    "        for i, data in enumerate(trainloader,0): # Iterating through the train loader \n",
    "            inputs,labels = data\n",
    "            inputs,labels = inputs.to(device),labels.to(device)\n",
    "\n",
    "            opt.zero_grad()     # Reset the gradient in every iteration\n",
    "\n",
    "            outputs = net(inputs)\n",
    "            loss = loss_fn(outputs,labels)   # Loss forward pass\n",
    "            # print(loss)\n",
    "            loss.backward()                  # Loss backaed pass\n",
    "            opt.step()                       # Update all the parameters by the given learnig rule\n",
    "\n",
    "            loss_arr.append(loss.item())\n",
    "        loss_epoch_arr.append(loss.item())\n",
    "        print('Val accuracy: %0.2f , Train accuracy : %0.2f'%(evaluation(testloader),evaluation(trainloader)))\n",
    "\n",
    "    plt.plot(loss_epoch_arr)\n",
    "    plt.show()\n",
    "    \n",
    "fit()"
   ]
  },
  {
   "cell_type": "code",
   "execution_count": 27,
   "metadata": {},
   "outputs": [],
   "source": [
    "torch.save(net.state_dict(), 'bubble_weight.pth')"
   ]
  }
 ],
 "metadata": {
  "kernelspec": {
   "display_name": "pytorch",
   "language": "python",
   "name": "python3"
  },
  "language_info": {
   "codemirror_mode": {
    "name": "ipython",
    "version": 3
   },
   "file_extension": ".py",
   "mimetype": "text/x-python",
   "name": "python",
   "nbconvert_exporter": "python",
   "pygments_lexer": "ipython3",
   "version": "3.11.9"
  }
 },
 "nbformat": 4,
 "nbformat_minor": 2
}
